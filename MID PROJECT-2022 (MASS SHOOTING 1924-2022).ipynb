{
 "cells": [
  {
   "cell_type": "markdown",
   "id": "84c67908",
   "metadata": {},
   "source": [
    " ### HISTORY OF MASS SHOOTING IN THE USA (1924-2022)\n",
    " \n",
    " Data as imported from Kaggle contains list of documented mass shootings in the United States of America from Histrocial \n",
    " period of (1924 -2022)\n",
    " NOTABLE FACTORS: 2,711 entered cases from     citied and states \n",
    "with recoreded death rates, injuries and descriptions of the cases.\n",
    "we will use various python modules as possible to anaylze the data, visualize, and profer possible solution\n",
    "to the problem."
   ]
  },
  {
   "cell_type": "code",
   "execution_count": 1,
   "id": "a09b5e7a",
   "metadata": {},
   "outputs": [],
   "source": [
    "import seaborn as sns\n",
    "import matplotlib.pyplot as plt\n",
    "%matplotlib inline"
   ]
  },
  {
   "cell_type": "code",
   "execution_count": 2,
   "id": "5ae70356",
   "metadata": {},
   "outputs": [],
   "source": [
    "import pandas as pd\n",
    "import numpy as np"
   ]
  },
  {
   "cell_type": "code",
   "execution_count": 3,
   "id": "bfb8c96b",
   "metadata": {},
   "outputs": [],
   "source": [
    "Shooting = pd.read_csv('History_of_Mass_Shootings_in_the_USA.csv')"
   ]
  },
  {
   "cell_type": "code",
   "execution_count": 4,
   "id": "b6b7ad69",
   "metadata": {},
   "outputs": [
    {
     "data": {
      "text/html": [
       "<div>\n",
       "<style scoped>\n",
       "    .dataframe tbody tr th:only-of-type {\n",
       "        vertical-align: middle;\n",
       "    }\n",
       "\n",
       "    .dataframe tbody tr th {\n",
       "        vertical-align: top;\n",
       "    }\n",
       "\n",
       "    .dataframe thead th {\n",
       "        text-align: right;\n",
       "    }\n",
       "</style>\n",
       "<table border=\"1\" class=\"dataframe\">\n",
       "  <thead>\n",
       "    <tr style=\"text-align: right;\">\n",
       "      <th></th>\n",
       "      <th>Date</th>\n",
       "      <th>City</th>\n",
       "      <th>State</th>\n",
       "      <th>Dead</th>\n",
       "      <th>Injured</th>\n",
       "      <th>Total</th>\n",
       "      <th>Description</th>\n",
       "    </tr>\n",
       "  </thead>\n",
       "  <tbody>\n",
       "    <tr>\n",
       "      <th>0</th>\n",
       "      <td>31-07-2022</td>\n",
       "      <td>Decatur</td>\n",
       "      <td>Illinois</td>\n",
       "      <td>1</td>\n",
       "      <td>3</td>\n",
       "      <td>4</td>\n",
       "      <td>Four teenagers, one of whom died, were shot at...</td>\n",
       "    </tr>\n",
       "    <tr>\n",
       "      <th>1</th>\n",
       "      <td>31-07-2022</td>\n",
       "      <td>Hartford</td>\n",
       "      <td>Connecticut</td>\n",
       "      <td>0</td>\n",
       "      <td>4</td>\n",
       "      <td>4</td>\n",
       "      <td>Four people, including a teenager, were shot i...</td>\n",
       "    </tr>\n",
       "    <tr>\n",
       "      <th>2</th>\n",
       "      <td>31-07-2022</td>\n",
       "      <td>Indianapolis</td>\n",
       "      <td>Indiana</td>\n",
       "      <td>0</td>\n",
       "      <td>4</td>\n",
       "      <td>4</td>\n",
       "      <td>Four people were shot after a fight in the Bro...</td>\n",
       "    </tr>\n",
       "    <tr>\n",
       "      <th>3</th>\n",
       "      <td>31-07-2022</td>\n",
       "      <td>Detroit</td>\n",
       "      <td>Michigan</td>\n",
       "      <td>1</td>\n",
       "      <td>7</td>\n",
       "      <td>8</td>\n",
       "      <td>One person was killed, and seven others were i...</td>\n",
       "    </tr>\n",
       "    <tr>\n",
       "      <th>4</th>\n",
       "      <td>31-07-2022</td>\n",
       "      <td>Orlando</td>\n",
       "      <td>Florida</td>\n",
       "      <td>0</td>\n",
       "      <td>7</td>\n",
       "      <td>7</td>\n",
       "      <td>Seven people were shot when someone opened fir...</td>\n",
       "    </tr>\n",
       "    <tr>\n",
       "      <th>...</th>\n",
       "      <td>...</td>\n",
       "      <td>...</td>\n",
       "      <td>...</td>\n",
       "      <td>...</td>\n",
       "      <td>...</td>\n",
       "      <td>...</td>\n",
       "      <td>...</td>\n",
       "    </tr>\n",
       "    <tr>\n",
       "      <th>2707</th>\n",
       "      <td>17-06-1933</td>\n",
       "      <td>Kansas City</td>\n",
       "      <td>Missouri</td>\n",
       "      <td>5</td>\n",
       "      <td>3</td>\n",
       "      <td>8</td>\n",
       "      <td>Kansas City Massacre: Four law enforcement off...</td>\n",
       "    </tr>\n",
       "    <tr>\n",
       "      <th>2708</th>\n",
       "      <td>25-12-1929</td>\n",
       "      <td>Germanton</td>\n",
       "      <td>North Carolina</td>\n",
       "      <td>7</td>\n",
       "      <td>0</td>\n",
       "      <td>7</td>\n",
       "      <td>Murder of the Lawson family: Charles Lawson sh...</td>\n",
       "    </tr>\n",
       "    <tr>\n",
       "      <th>2709</th>\n",
       "      <td>14-02-1929</td>\n",
       "      <td>Chicago</td>\n",
       "      <td>Illinois</td>\n",
       "      <td>7</td>\n",
       "      <td>0</td>\n",
       "      <td>7</td>\n",
       "      <td>Saint Valentine's Day Massacre: Seven members ...</td>\n",
       "    </tr>\n",
       "    <tr>\n",
       "      <th>2710</th>\n",
       "      <td>21-11-1927</td>\n",
       "      <td>Serene</td>\n",
       "      <td>Colorado</td>\n",
       "      <td>6</td>\n",
       "      <td>0</td>\n",
       "      <td>6</td>\n",
       "      <td>Columbine Mine Massacre: A fight broke out bet...</td>\n",
       "    </tr>\n",
       "    <tr>\n",
       "      <th>2711</th>\n",
       "      <td>9/9/1924</td>\n",
       "      <td>Hanapepe</td>\n",
       "      <td>Hawaii</td>\n",
       "      <td>20</td>\n",
       "      <td>0</td>\n",
       "      <td>20</td>\n",
       "      <td>Hanapepe Massacre: During a strike of Filipino...</td>\n",
       "    </tr>\n",
       "  </tbody>\n",
       "</table>\n",
       "<p>2712 rows × 7 columns</p>\n",
       "</div>"
      ],
      "text/plain": [
       "            Date          City           State  Dead  Injured  Total  \\\n",
       "0     31-07-2022       Decatur        Illinois     1        3      4   \n",
       "1     31-07-2022      Hartford     Connecticut     0        4      4   \n",
       "2     31-07-2022  Indianapolis         Indiana     0        4      4   \n",
       "3     31-07-2022       Detroit        Michigan     1        7      8   \n",
       "4     31-07-2022       Orlando         Florida     0        7      7   \n",
       "...          ...           ...             ...   ...      ...    ...   \n",
       "2707  17-06-1933   Kansas City        Missouri     5        3      8   \n",
       "2708  25-12-1929     Germanton  North Carolina     7        0      7   \n",
       "2709  14-02-1929       Chicago        Illinois     7        0      7   \n",
       "2710  21-11-1927        Serene        Colorado     6        0      6   \n",
       "2711    9/9/1924      Hanapepe          Hawaii    20        0     20   \n",
       "\n",
       "                                            Description  \n",
       "0     Four teenagers, one of whom died, were shot at...  \n",
       "1     Four people, including a teenager, were shot i...  \n",
       "2     Four people were shot after a fight in the Bro...  \n",
       "3     One person was killed, and seven others were i...  \n",
       "4     Seven people were shot when someone opened fir...  \n",
       "...                                                 ...  \n",
       "2707  Kansas City Massacre: Four law enforcement off...  \n",
       "2708  Murder of the Lawson family: Charles Lawson sh...  \n",
       "2709  Saint Valentine's Day Massacre: Seven members ...  \n",
       "2710  Columbine Mine Massacre: A fight broke out bet...  \n",
       "2711  Hanapepe Massacre: During a strike of Filipino...  \n",
       "\n",
       "[2712 rows x 7 columns]"
      ]
     },
     "execution_count": 4,
     "metadata": {},
     "output_type": "execute_result"
    }
   ],
   "source": [
    "Shooting"
   ]
  },
  {
   "cell_type": "code",
   "execution_count": 5,
   "id": "84da3bb8",
   "metadata": {},
   "outputs": [
    {
     "name": "stdout",
     "output_type": "stream",
     "text": [
      "<class 'pandas.core.frame.DataFrame'>\n",
      "RangeIndex: 2712 entries, 0 to 2711\n",
      "Data columns (total 7 columns):\n",
      " #   Column       Non-Null Count  Dtype \n",
      "---  ------       --------------  ----- \n",
      " 0   Date         2712 non-null   object\n",
      " 1   City         2712 non-null   object\n",
      " 2   State        2712 non-null   object\n",
      " 3   Dead         2712 non-null   int64 \n",
      " 4   Injured      2712 non-null   int64 \n",
      " 5   Total        2712 non-null   int64 \n",
      " 6   Description  2712 non-null   object\n",
      "dtypes: int64(3), object(4)\n",
      "memory usage: 148.4+ KB\n"
     ]
    }
   ],
   "source": [
    "Shooting.info() #getting the information or content of the imported data"
   ]
  },
  {
   "cell_type": "code",
   "execution_count": 6,
   "id": "bc3863cf",
   "metadata": {
    "scrolled": true
   },
   "outputs": [
    {
     "data": {
      "text/plain": [
       "Date           0\n",
       "City           0\n",
       "State          0\n",
       "Dead           0\n",
       "Injured        0\n",
       "Total          0\n",
       "Description    0\n",
       "dtype: int64"
      ]
     },
     "execution_count": 6,
     "metadata": {},
     "output_type": "execute_result"
    }
   ],
   "source": [
    "Shooting.isna().sum() # this enables us to find any means values in the data... and there was no case with empty column"
   ]
  },
  {
   "cell_type": "code",
   "execution_count": 7,
   "id": "1b3cdfe0",
   "metadata": {},
   "outputs": [
    {
     "data": {
      "text/html": [
       "<div>\n",
       "<style scoped>\n",
       "    .dataframe tbody tr th:only-of-type {\n",
       "        vertical-align: middle;\n",
       "    }\n",
       "\n",
       "    .dataframe tbody tr th {\n",
       "        vertical-align: top;\n",
       "    }\n",
       "\n",
       "    .dataframe thead th {\n",
       "        text-align: right;\n",
       "    }\n",
       "</style>\n",
       "<table border=\"1\" class=\"dataframe\">\n",
       "  <thead>\n",
       "    <tr style=\"text-align: right;\">\n",
       "      <th></th>\n",
       "      <th>Dead</th>\n",
       "      <th>Injured</th>\n",
       "      <th>Total</th>\n",
       "    </tr>\n",
       "  </thead>\n",
       "  <tbody>\n",
       "    <tr>\n",
       "      <th>count</th>\n",
       "      <td>2712.000000</td>\n",
       "      <td>2712.000000</td>\n",
       "      <td>2712.000000</td>\n",
       "    </tr>\n",
       "    <tr>\n",
       "      <th>mean</th>\n",
       "      <td>1.436578</td>\n",
       "      <td>4.401180</td>\n",
       "      <td>5.837021</td>\n",
       "    </tr>\n",
       "    <tr>\n",
       "      <th>std</th>\n",
       "      <td>2.880447</td>\n",
       "      <td>8.532826</td>\n",
       "      <td>10.130793</td>\n",
       "    </tr>\n",
       "    <tr>\n",
       "      <th>min</th>\n",
       "      <td>0.000000</td>\n",
       "      <td>0.000000</td>\n",
       "      <td>2.000000</td>\n",
       "    </tr>\n",
       "    <tr>\n",
       "      <th>25%</th>\n",
       "      <td>0.000000</td>\n",
       "      <td>3.000000</td>\n",
       "      <td>4.000000</td>\n",
       "    </tr>\n",
       "    <tr>\n",
       "      <th>50%</th>\n",
       "      <td>1.000000</td>\n",
       "      <td>4.000000</td>\n",
       "      <td>4.000000</td>\n",
       "    </tr>\n",
       "    <tr>\n",
       "      <th>75%</th>\n",
       "      <td>2.000000</td>\n",
       "      <td>5.000000</td>\n",
       "      <td>6.000000</td>\n",
       "    </tr>\n",
       "    <tr>\n",
       "      <th>max</th>\n",
       "      <td>61.000000</td>\n",
       "      <td>411.000000</td>\n",
       "      <td>472.000000</td>\n",
       "    </tr>\n",
       "  </tbody>\n",
       "</table>\n",
       "</div>"
      ],
      "text/plain": [
       "              Dead      Injured        Total\n",
       "count  2712.000000  2712.000000  2712.000000\n",
       "mean      1.436578     4.401180     5.837021\n",
       "std       2.880447     8.532826    10.130793\n",
       "min       0.000000     0.000000     2.000000\n",
       "25%       0.000000     3.000000     4.000000\n",
       "50%       1.000000     4.000000     4.000000\n",
       "75%       2.000000     5.000000     6.000000\n",
       "max      61.000000   411.000000   472.000000"
      ]
     },
     "execution_count": 7,
     "metadata": {},
     "output_type": "execute_result"
    }
   ],
   "source": [
    "Shooting.describe() #.To get a better counts of the numeric data"
   ]
  },
  {
   "cell_type": "code",
   "execution_count": 8,
   "id": "8fc8f0db",
   "metadata": {},
   "outputs": [
    {
     "data": {
      "text/plain": [
       "Illinois                          274\n",
       "California                        222\n",
       "Texas                             205\n",
       "Florida                           137\n",
       "Pennsylvania                      126\n",
       "New York                          126\n",
       "Louisiana                         121\n",
       "Ohio                               99\n",
       "Michigan                           92\n",
       "Georgia                            92\n",
       "North Carolina                     88\n",
       "Missouri                           80\n",
       "Maryl                              77\n",
       "Tennessee                          73\n",
       "South Carolina                     73\n",
       "Alabama                            70\n",
       "Virginia                           59\n",
       "Indiana                            55\n",
       "New Jersey                         54\n",
       "Mississippi                        52\n",
       "Colorado                           51\n",
       "Wisconsin                          42\n",
       "Washington                         39\n",
       "Arkansas                           35\n",
       "Washington D.C.                    34\n",
       "Kentucky                           32\n",
       "Arizona                            30\n",
       "Minnesota                          30\n",
       "Nevada                             23\n",
       "Oregon                             22\n",
       "Massachusetts                      22\n",
       "Oklahoma                           21\n",
       "Connecticut                        20\n",
       "Iowa                               19\n",
       "New Mexico                         19\n",
       "Kansas                             14\n",
       "Delaware                           13\n",
       "Nebraska                           10\n",
       "Utah                                8\n",
       "United States Virgin Isls           7\n",
       "Alaska                              7\n",
       "District of Columbia                5\n",
       "West Virginia                       5\n",
       "Hawaii                              4\n",
       "Puerto Rico                         4\n",
       "Rhode Isl                           3\n",
       "Montana                             3\n",
       "South Dakota                        2\n",
       "Idaho                               2\n",
       "New Hampshire                       1\n",
       "Peoria                              1\n",
       "Maine                               1\n",
       "Wyoming                             1\n",
       "Santa Ana                           1\n",
       "Northern Mariana Isls               1\n",
       "Samson                              1\n",
       "Colorado Springs                    1\n",
       "Lancaster County                    1\n",
       "Robinson Township                   1\n",
       "Pennsylvania  Jenkins Township      1\n",
       "Name: State, dtype: int64"
      ]
     },
     "execution_count": 8,
     "metadata": {},
     "output_type": "execute_result"
    }
   ],
   "source": [
    "\n",
    "Shooting['State'].value_counts() # function to count total shooting occurance by state"
   ]
  },
  {
   "cell_type": "code",
   "execution_count": 9,
   "id": "f36af6bc",
   "metadata": {
    "scrolled": true
   },
   "outputs": [
    {
     "data": {
      "text/plain": [
       "Injured    411\n",
       "Dead        61\n",
       "Total      472\n",
       "dtype: int64"
      ]
     },
     "execution_count": 9,
     "metadata": {},
     "output_type": "execute_result"
    }
   ],
   "source": [
    "\n",
    "Shooting[['Injured','Dead', 'Total']].max() # getting the maximum of iinjured, dead and total"
   ]
  },
  {
   "cell_type": "code",
   "execution_count": 21,
   "id": "15cca03c",
   "metadata": {},
   "outputs": [
    {
     "data": {
      "text/plain": [
       "City              State       \n",
       "Chicago           Illinois        198\n",
       "Philadelphia      Pennsylvania     85\n",
       "New York City     New York         69\n",
       "Houston           Texas            53\n",
       "Baltimore         Maryl            51\n",
       "                                 ... \n",
       "Hanapepe          Hawaii            1\n",
       "Happy Valley      Oregon            1\n",
       "Harmony Township  Ohio              1\n",
       "Harris County     Texas             1\n",
       "Zion              Illinois          1\n",
       "Length: 989, dtype: int64"
      ]
     },
     "execution_count": 21,
     "metadata": {},
     "output_type": "execute_result"
    }
   ],
   "source": [
    "Shooting[['City','State']].value_counts() #getting shooting by city and state"
   ]
  },
  {
   "cell_type": "code",
   "execution_count": 22,
   "id": "9be9984b",
   "metadata": {},
   "outputs": [
    {
     "data": {
      "text/plain": [
       "Injured  Total\n",
       "4        4        710\n",
       "3        4        408\n",
       "5        5        247\n",
       "4        5        194\n",
       "2        4        166\n",
       "                 ... \n",
       "         10         1\n",
       "         12         1\n",
       "         30         1\n",
       "11       11         1\n",
       "411      472        1\n",
       "Length: 156, dtype: int64"
      ]
     },
     "execution_count": 22,
     "metadata": {},
     "output_type": "execute_result"
    }
   ],
   "source": [
    "Shooting[['Injured','Total']].value_counts()"
   ]
  },
  {
   "cell_type": "code",
   "execution_count": 23,
   "id": "72c38cc5",
   "metadata": {},
   "outputs": [
    {
     "data": {
      "text/plain": [
       "Dead  Total\n",
       "0     4        710\n",
       "1     4        408\n",
       "0     5        247\n",
       "1     5        194\n",
       "2     4        166\n",
       "              ... \n",
       "6     38         1\n",
       "      27         1\n",
       "      25         1\n",
       "      21         1\n",
       "61    472        1\n",
       "Length: 156, dtype: int64"
      ]
     },
     "execution_count": 23,
     "metadata": {},
     "output_type": "execute_result"
    }
   ],
   "source": [
    "Shooting[['Dead','Total']].value_counts()"
   ]
  },
  {
   "cell_type": "code",
   "execution_count": 24,
   "id": "6a7386d3",
   "metadata": {
    "scrolled": false
   },
   "outputs": [
    {
     "data": {
      "text/plain": [
       "Date        Description                                                                                                                                                           \n",
       "21-06-2018  Four people were wounded in a shooting.                                                                                                                                   2\n",
       "1/1/2018    A 21-year-old was killed and three others were wounded shortly after midnight at a New Year's Eve party.                                                                  1\n",
       "29-05-2022  Four people were shot, one fatally, at a house party during the early morning.                                                                                            1\n",
       "29-04-2022  Two people were killed, and three others were injured, after a fight between two biker gangs led to a gunfight in a bar parking lot in the Fountain City neighborhood.    1\n",
       "29-05-2019  A man shot three employees at a local plumbing company, killing one before exchanging gunfire with a sheriff's deputy, also injuring him before committing suicide.       1\n",
       "                                                                                                                                                                                     ..\n",
       "19-08-2021  A drive-by shooting outside a barbershop killed one and wounded four.                                                                                                     1\n",
       "            A man was killed and three others wounded in an evening shooting.                                                                                                         1\n",
       "            Four people were shot in a Bronzeville business.                                                                                                                          1\n",
       "19-09-2019  A man was killed, and four others and a woman injured, in a possible drive-by in the Columbia Heights District.                                                           1\n",
       "9/9/2021    Six adults and a child were wounded in a drive-by shooting. The suspects attempted to flee the area but were hit by a MetroLink train.                                    1\n",
       "Length: 2711, dtype: int64"
      ]
     },
     "execution_count": 24,
     "metadata": {},
     "output_type": "execute_result"
    }
   ],
   "source": [
    "\n",
    "Shooting[['Date','Description']].value_counts()"
   ]
  },
  {
   "cell_type": "code",
   "execution_count": 25,
   "id": "286a67de",
   "metadata": {},
   "outputs": [
    {
     "data": {
      "text/plain": [
       "Total\n",
       "2      17-06-2019\n",
       "3      29-12-2019\n",
       "4        9/9/2021\n",
       "5        9/8/2020\n",
       "6        9/7/2021\n",
       "7        9/9/2021\n",
       "8        9/2/2018\n",
       "9        8/7/2011\n",
       "10      9/10/2017\n",
       "11       8/5/2012\n",
       "12       9/6/2011\n",
       "13       8/4/2009\n",
       "14       7/5/2020\n",
       "15       7/8/2003\n",
       "16       9/6/1972\n",
       "17       7/7/2016\n",
       "18       4/3/2009\n",
       "20       9/9/1924\n",
       "21     28-07-2019\n",
       "22       8/9/2020\n",
       "23       5/7/1981\n",
       "24     18-05-2018\n",
       "25      12/7/1993\n",
       "27     20-06-1994\n",
       "28       7/8/1945\n",
       "29     21-05-1998\n",
       "30       2/8/1968\n",
       "33     31-08-2019\n",
       "34     14-02-2018\n",
       "37       8/4/2019\n",
       "38     17-01-1989\n",
       "39     20-04-1999\n",
       "40     24-05-2022\n",
       "41     18-07-1984\n",
       "43      12/7/1987\n",
       "46       8/3/2019\n",
       "47      11/5/2009\n",
       "48       8/1/1966\n",
       "49      11/5/2017\n",
       "50     16-04-2007\n",
       "51     16-10-1991\n",
       "55       4/7/2022\n",
       "82     20-07-2012\n",
       "108     6/12/2016\n",
       "472     10/1/2017\n",
       "Name: Date, dtype: object"
      ]
     },
     "execution_count": 25,
     "metadata": {},
     "output_type": "execute_result"
    }
   ],
   "source": [
    "year = Shooting.groupby('Total') # getting the highest dotal occurance by dates\n",
    "year['Date'].max()"
   ]
  },
  {
   "cell_type": "code",
   "execution_count": 26,
   "id": "11ab21b5",
   "metadata": {
    "scrolled": false
   },
   "outputs": [
    {
     "data": {
      "text/plain": [
       "Injured\n",
       "0        9/9/1924\n",
       "1        9/7/2019\n",
       "2        9/6/2018\n",
       "3        9/9/2021\n",
       "4        9/8/2021\n",
       "5        9/8/2020\n",
       "6        9/6/2020\n",
       "7        9/9/2021\n",
       "8        9/6/1972\n",
       "9        8/4/2009\n",
       "10       8/9/2020\n",
       "11       9/4/1977\n",
       "12       7/5/2020\n",
       "13      6/12/2021\n",
       "14       4/4/1991\n",
       "15       3/4/2022\n",
       "16     26-03-2017\n",
       "17       3/7/2020\n",
       "18       5/7/1981\n",
       "19       7/8/1945\n",
       "20     30-05-2021\n",
       "21       8/9/2020\n",
       "22     20-06-1994\n",
       "23       8/3/2019\n",
       "24     20-04-1999\n",
       "25     31-08-2019\n",
       "26     19-03-2022\n",
       "27       8/4/2019\n",
       "28       7/1/2017\n",
       "31       8/1/1966\n",
       "32     17-01-1989\n",
       "33      11/5/2009\n",
       "48       4/7/2022\n",
       "58      6/12/2016\n",
       "70     20-07-2012\n",
       "411     10/1/2017\n",
       "Name: Date, dtype: object"
      ]
     },
     "execution_count": 26,
     "metadata": {},
     "output_type": "execute_result"
    }
   ],
   "source": [
    "year = Shooting.groupby('Injured')\n",
    "year['Date'].max()"
   ]
  },
  {
   "cell_type": "code",
   "execution_count": 27,
   "id": "05fdbb79",
   "metadata": {
    "scrolled": true
   },
   "outputs": [
    {
     "data": {
      "text/plain": [
       "Dead\n",
       "0       9/9/2021\n",
       "1       9/9/2021\n",
       "2       9/8/2019\n",
       "3       9/7/2019\n",
       "4       9/6/2018\n",
       "5       9/6/2011\n",
       "6       9/2/2008\n",
       "7       9/7/2020\n",
       "8       9/6/1972\n",
       "9      9/10/2017\n",
       "10      8/4/2019\n",
       "11    30-03-1975\n",
       "12    20-07-2012\n",
       "13      9/6/1949\n",
       "14      4/3/2009\n",
       "15    20-08-1986\n",
       "16     12/2/2015\n",
       "17      8/1/1966\n",
       "20      9/9/1924\n",
       "22    24-05-2022\n",
       "23      8/3/2019\n",
       "24    16-10-1991\n",
       "27     11/5/2017\n",
       "28    14-12-2012\n",
       "33    16-04-2007\n",
       "43     12/7/1987\n",
       "50     6/12/2016\n",
       "61     10/1/2017\n",
       "Name: Date, dtype: object"
      ]
     },
     "execution_count": 27,
     "metadata": {},
     "output_type": "execute_result"
    }
   ],
   "source": [
    "year = Shooting.groupby('Dead')\n",
    "year['Date'].max()"
   ]
  },
  {
   "cell_type": "code",
   "execution_count": 28,
   "id": "748390dc",
   "metadata": {},
   "outputs": [
    {
     "data": {
      "text/html": [
       "<div>\n",
       "<style scoped>\n",
       "    .dataframe tbody tr th:only-of-type {\n",
       "        vertical-align: middle;\n",
       "    }\n",
       "\n",
       "    .dataframe tbody tr th {\n",
       "        vertical-align: top;\n",
       "    }\n",
       "\n",
       "    .dataframe thead th {\n",
       "        text-align: right;\n",
       "    }\n",
       "</style>\n",
       "<table border=\"1\" class=\"dataframe\">\n",
       "  <thead>\n",
       "    <tr style=\"text-align: right;\">\n",
       "      <th></th>\n",
       "      <th>Date</th>\n",
       "      <th>City</th>\n",
       "      <th>State</th>\n",
       "      <th>Dead</th>\n",
       "      <th>Injured</th>\n",
       "      <th>Total</th>\n",
       "      <th>Description</th>\n",
       "    </tr>\n",
       "  </thead>\n",
       "  <tbody>\n",
       "    <tr>\n",
       "      <th>12</th>\n",
       "      <td>29-07-2022</td>\n",
       "      <td>Baltimore</td>\n",
       "      <td>Maryl</td>\n",
       "      <td>2</td>\n",
       "      <td>2</td>\n",
       "      <td>4</td>\n",
       "      <td>An argument in the Walbrook neighborhood led t...</td>\n",
       "    </tr>\n",
       "    <tr>\n",
       "      <th>129</th>\n",
       "      <td>18-06-2022</td>\n",
       "      <td>Baltimore</td>\n",
       "      <td>Maryl</td>\n",
       "      <td>0</td>\n",
       "      <td>4</td>\n",
       "      <td>4</td>\n",
       "      <td>Three people standing together in the Sandtown...</td>\n",
       "    </tr>\n",
       "    <tr>\n",
       "      <th>149</th>\n",
       "      <td>9/6/2022</td>\n",
       "      <td>Smithsburg</td>\n",
       "      <td>Maryl</td>\n",
       "      <td>3</td>\n",
       "      <td>3</td>\n",
       "      <td>6</td>\n",
       "      <td>A shooter opened fire at a manufacturing facil...</td>\n",
       "    </tr>\n",
       "    <tr>\n",
       "      <th>151</th>\n",
       "      <td>7/6/2022</td>\n",
       "      <td>Baltimore</td>\n",
       "      <td>Maryl</td>\n",
       "      <td>2</td>\n",
       "      <td>2</td>\n",
       "      <td>4</td>\n",
       "      <td>Four men sitting in the side yard of a house i...</td>\n",
       "    </tr>\n",
       "    <tr>\n",
       "      <th>222</th>\n",
       "      <td>10/5/2022</td>\n",
       "      <td>Baltimore</td>\n",
       "      <td>Maryl</td>\n",
       "      <td>0</td>\n",
       "      <td>5</td>\n",
       "      <td>5</td>\n",
       "      <td>Five people were shot during a confrontation b...</td>\n",
       "    </tr>\n",
       "    <tr>\n",
       "      <th>...</th>\n",
       "      <td>...</td>\n",
       "      <td>...</td>\n",
       "      <td>...</td>\n",
       "      <td>...</td>\n",
       "      <td>...</td>\n",
       "      <td>...</td>\n",
       "      <td>...</td>\n",
       "    </tr>\n",
       "    <tr>\n",
       "      <th>2337</th>\n",
       "      <td>21-07-2018</td>\n",
       "      <td>Baltimore</td>\n",
       "      <td>Maryl</td>\n",
       "      <td>0</td>\n",
       "      <td>4</td>\n",
       "      <td>4</td>\n",
       "      <td>Four people were wounded in a shooting.</td>\n",
       "    </tr>\n",
       "    <tr>\n",
       "      <th>2347</th>\n",
       "      <td>14-07-2018</td>\n",
       "      <td>Fort Washington</td>\n",
       "      <td>Maryl</td>\n",
       "      <td>0</td>\n",
       "      <td>4</td>\n",
       "      <td>4</td>\n",
       "      <td>Four people were injured in a shooting.</td>\n",
       "    </tr>\n",
       "    <tr>\n",
       "      <th>2356</th>\n",
       "      <td>30-06-2018</td>\n",
       "      <td>Baltimore</td>\n",
       "      <td>Maryl</td>\n",
       "      <td>0</td>\n",
       "      <td>6</td>\n",
       "      <td>6</td>\n",
       "      <td>Six people were injured at a barbecue when an ...</td>\n",
       "    </tr>\n",
       "    <tr>\n",
       "      <th>2359</th>\n",
       "      <td>28-06-2018</td>\n",
       "      <td>Annapolis</td>\n",
       "      <td>Maryl</td>\n",
       "      <td>5</td>\n",
       "      <td>2</td>\n",
       "      <td>7</td>\n",
       "      <td>Capital Gazette shooting: A gunman entered the...</td>\n",
       "    </tr>\n",
       "    <tr>\n",
       "      <th>2406</th>\n",
       "      <td>14-05-2018</td>\n",
       "      <td>Baltimore</td>\n",
       "      <td>Maryl</td>\n",
       "      <td>0</td>\n",
       "      <td>4</td>\n",
       "      <td>4</td>\n",
       "      <td>Four men were wounded in a shooting near a pla...</td>\n",
       "    </tr>\n",
       "  </tbody>\n",
       "</table>\n",
       "<p>77 rows × 7 columns</p>\n",
       "</div>"
      ],
      "text/plain": [
       "            Date             City  State  Dead  Injured  Total  \\\n",
       "12    29-07-2022        Baltimore  Maryl     2        2      4   \n",
       "129   18-06-2022        Baltimore  Maryl     0        4      4   \n",
       "149     9/6/2022       Smithsburg  Maryl     3        3      6   \n",
       "151     7/6/2022        Baltimore  Maryl     2        2      4   \n",
       "222    10/5/2022        Baltimore  Maryl     0        5      5   \n",
       "...          ...              ...    ...   ...      ...    ...   \n",
       "2337  21-07-2018        Baltimore  Maryl     0        4      4   \n",
       "2347  14-07-2018  Fort Washington  Maryl     0        4      4   \n",
       "2356  30-06-2018        Baltimore  Maryl     0        6      6   \n",
       "2359  28-06-2018        Annapolis  Maryl     5        2      7   \n",
       "2406  14-05-2018        Baltimore  Maryl     0        4      4   \n",
       "\n",
       "                                            Description  \n",
       "12    An argument in the Walbrook neighborhood led t...  \n",
       "129   Three people standing together in the Sandtown...  \n",
       "149   A shooter opened fire at a manufacturing facil...  \n",
       "151   Four men sitting in the side yard of a house i...  \n",
       "222   Five people were shot during a confrontation b...  \n",
       "...                                                 ...  \n",
       "2337            Four people were wounded in a shooting.  \n",
       "2347            Four people were injured in a shooting.  \n",
       "2356  Six people were injured at a barbecue when an ...  \n",
       "2359  Capital Gazette shooting: A gunman entered the...  \n",
       "2406  Four men were wounded in a shooting near a pla...  \n",
       "\n",
       "[77 rows x 7 columns]"
      ]
     },
     "execution_count": 28,
     "metadata": {},
     "output_type": "execute_result"
    }
   ],
   "source": [
    "Shooting.loc[Shooting.State == 'Maryl'] # getting to print for an interested date, state, city depending on key passed"
   ]
  },
  {
   "cell_type": "code",
   "execution_count": 29,
   "id": "d2beea84",
   "metadata": {},
   "outputs": [
    {
     "data": {
      "text/plain": [
       "Date\n",
       "1/1/2018     4.000\n",
       "1/1/2019     5.000\n",
       "1/1/2020     5.000\n",
       "1/1/2021     5.000\n",
       "1/1/2022     4.375\n",
       "             ...  \n",
       "9/8/2020     5.000\n",
       "9/8/2021     4.000\n",
       "9/9/1924    20.000\n",
       "9/9/2020     4.000\n",
       "9/9/2021     5.500\n",
       "Name: Total, Length: 1348, dtype: float64"
      ]
     },
     "execution_count": 29,
     "metadata": {},
     "output_type": "execute_result"
    }
   ],
   "source": [
    "year = Shooting.groupby('Date')\n",
    "year['Total'].mean()\n"
   ]
  },
  {
   "cell_type": "code",
   "execution_count": 30,
   "id": "fa65e415",
   "metadata": {
    "scrolled": false
   },
   "outputs": [
    {
     "data": {
      "text/plain": [
       "State\n",
       "Alabama                            4.842857\n",
       "Alaska                             4.285714\n",
       "Arizona                            6.266667\n",
       "Arkansas                           6.114286\n",
       "California                         6.563063\n",
       "Colorado                           7.509804\n",
       "Colorado Springs                  10.000000\n",
       "Connecticut                        5.750000\n",
       "Delaware                           4.461538\n",
       "District of Columbia               4.200000\n",
       "Florida                            6.109489\n",
       "Georgia                            4.934783\n",
       "Hawaii                             8.750000\n",
       "Idaho                              6.000000\n",
       "Illinois                           5.302920\n",
       "Indiana                            5.181818\n",
       "Iowa                               5.157895\n",
       "Kansas                             5.857143\n",
       "Kentucky                           5.875000\n",
       "Lancaster County                  11.000000\n",
       "Louisiana                          5.066116\n",
       "Maine                              4.000000\n",
       "Maryl                              4.714286\n",
       "Massachusetts                      4.818182\n",
       "Michigan                           4.826087\n",
       "Minnesota                          6.000000\n",
       "Mississippi                        5.615385\n",
       "Missouri                           4.975000\n",
       "Montana                            6.666667\n",
       "Nebraska                           6.200000\n",
       "Nevada                            25.782609\n",
       "New Hampshire                      4.000000\n",
       "New Jersey                         5.648148\n",
       "New Mexico                         4.789474\n",
       "New York                           5.444444\n",
       "North Carolina                     5.022727\n",
       "Northern Mariana Isls             14.000000\n",
       "Ohio                               5.656566\n",
       "Oklahoma                           5.285714\n",
       "Oregon                             7.272727\n",
       "Pennsylvania                       5.079365\n",
       "Pennsylvania  Jenkins Township    14.000000\n",
       "Peoria                            13.000000\n",
       "Puerto Rico                        5.750000\n",
       "Rhode Isl                          6.000000\n",
       "Robinson Township                  6.000000\n",
       "Samson                            17.000000\n",
       "Santa Ana                          5.000000\n",
       "South Carolina                     6.191781\n",
       "South Dakota                       4.500000\n",
       "Tennessee                          5.191781\n",
       "Texas                              6.814634\n",
       "United States Virgin Isls          6.142857\n",
       "Utah                               8.250000\n",
       "Virginia                           5.762712\n",
       "Washington                         6.128205\n",
       "Washington D.C.                    5.411765\n",
       "West Virginia                      5.000000\n",
       "Wisconsin                          5.666667\n",
       "Wyoming                            4.000000\n",
       "Name: Total, dtype: float64"
      ]
     },
     "execution_count": 30,
     "metadata": {},
     "output_type": "execute_result"
    }
   ],
   "source": [
    "state = Shooting.groupby('State')\n",
    "state['Total'].mean()\n"
   ]
  },
  {
   "cell_type": "code",
   "execution_count": 31,
   "id": "9725bff8",
   "metadata": {},
   "outputs": [
    {
     "data": {
      "text/html": [
       "<div>\n",
       "<style scoped>\n",
       "    .dataframe tbody tr th:only-of-type {\n",
       "        vertical-align: middle;\n",
       "    }\n",
       "\n",
       "    .dataframe tbody tr th {\n",
       "        vertical-align: top;\n",
       "    }\n",
       "\n",
       "    .dataframe thead th {\n",
       "        text-align: right;\n",
       "    }\n",
       "</style>\n",
       "<table border=\"1\" class=\"dataframe\">\n",
       "  <thead>\n",
       "    <tr style=\"text-align: right;\">\n",
       "      <th></th>\n",
       "      <th>Date</th>\n",
       "      <th>City</th>\n",
       "      <th>Dead</th>\n",
       "      <th>Injured</th>\n",
       "      <th>Total</th>\n",
       "      <th>Description</th>\n",
       "    </tr>\n",
       "    <tr>\n",
       "      <th>State</th>\n",
       "      <th></th>\n",
       "      <th></th>\n",
       "      <th></th>\n",
       "      <th></th>\n",
       "      <th></th>\n",
       "      <th></th>\n",
       "    </tr>\n",
       "  </thead>\n",
       "  <tbody>\n",
       "    <tr>\n",
       "      <th>California</th>\n",
       "      <td>24-07-2022</td>\n",
       "      <td>Los Angeles</td>\n",
       "      <td>2</td>\n",
       "      <td>5</td>\n",
       "      <td>7</td>\n",
       "      <td>Two people were killed and five others injured...</td>\n",
       "    </tr>\n",
       "    <tr>\n",
       "      <th>California</th>\n",
       "      <td>21-07-2022</td>\n",
       "      <td>Los Angeles</td>\n",
       "      <td>0</td>\n",
       "      <td>4</td>\n",
       "      <td>4</td>\n",
       "      <td>Two men shot four people standing outside a CV...</td>\n",
       "    </tr>\n",
       "    <tr>\n",
       "      <th>California</th>\n",
       "      <td>10/7/2022</td>\n",
       "      <td>Downey</td>\n",
       "      <td>3</td>\n",
       "      <td>2</td>\n",
       "      <td>5</td>\n",
       "      <td>Three people were killed and two were wounded ...</td>\n",
       "    </tr>\n",
       "    <tr>\n",
       "      <th>California</th>\n",
       "      <td>4/7/2022</td>\n",
       "      <td>Sacramento</td>\n",
       "      <td>1</td>\n",
       "      <td>4</td>\n",
       "      <td>5</td>\n",
       "      <td>A shooting outside a nightclub killed one and ...</td>\n",
       "    </tr>\n",
       "    <tr>\n",
       "      <th>California</th>\n",
       "      <td>4/7/2022</td>\n",
       "      <td>Oakland</td>\n",
       "      <td>0</td>\n",
       "      <td>5</td>\n",
       "      <td>5</td>\n",
       "      <td>Five people were hit by celebratory gunfire fi...</td>\n",
       "    </tr>\n",
       "    <tr>\n",
       "      <th>...</th>\n",
       "      <td>...</td>\n",
       "      <td>...</td>\n",
       "      <td>...</td>\n",
       "      <td>...</td>\n",
       "      <td>...</td>\n",
       "      <td>...</td>\n",
       "    </tr>\n",
       "    <tr>\n",
       "      <th>California</th>\n",
       "      <td>29-01-1979</td>\n",
       "      <td>San Diego</td>\n",
       "      <td>2</td>\n",
       "      <td>9</td>\n",
       "      <td>11</td>\n",
       "      <td>Cleveland Elementary School shooting: A 16-yea...</td>\n",
       "    </tr>\n",
       "    <tr>\n",
       "      <th>California</th>\n",
       "      <td>9/4/1977</td>\n",
       "      <td>San Francisco</td>\n",
       "      <td>5</td>\n",
       "      <td>11</td>\n",
       "      <td>16</td>\n",
       "      <td>Golden Dragon Massacre : Five members of a Chi...</td>\n",
       "    </tr>\n",
       "    <tr>\n",
       "      <th>California</th>\n",
       "      <td>7/12/1976</td>\n",
       "      <td>Fullerton</td>\n",
       "      <td>7</td>\n",
       "      <td>2</td>\n",
       "      <td>9</td>\n",
       "      <td>California State University, Fullerton, shooti...</td>\n",
       "    </tr>\n",
       "    <tr>\n",
       "      <th>California</th>\n",
       "      <td>8/7/1970</td>\n",
       "      <td>San Rafael</td>\n",
       "      <td>4</td>\n",
       "      <td>2</td>\n",
       "      <td>6</td>\n",
       "      <td>Marin County Civic Center attacks: The 17-year...</td>\n",
       "    </tr>\n",
       "    <tr>\n",
       "      <th>California</th>\n",
       "      <td>25-04-1965</td>\n",
       "      <td>Orcutt</td>\n",
       "      <td>4</td>\n",
       "      <td>10</td>\n",
       "      <td>14</td>\n",
       "      <td>1965 Highway 101 sniper attack: A 16-year-old ...</td>\n",
       "    </tr>\n",
       "  </tbody>\n",
       "</table>\n",
       "<p>222 rows × 6 columns</p>\n",
       "</div>"
      ],
      "text/plain": [
       "                  Date           City  Dead  Injured  Total  \\\n",
       "State                                                         \n",
       "California  24-07-2022    Los Angeles     2        5      7   \n",
       "California  21-07-2022    Los Angeles     0        4      4   \n",
       "California   10/7/2022         Downey     3        2      5   \n",
       "California    4/7/2022     Sacramento     1        4      5   \n",
       "California    4/7/2022        Oakland     0        5      5   \n",
       "...                ...            ...   ...      ...    ...   \n",
       "California  29-01-1979      San Diego     2        9     11   \n",
       "California    9/4/1977  San Francisco     5       11     16   \n",
       "California   7/12/1976      Fullerton     7        2      9   \n",
       "California    8/7/1970     San Rafael     4        2      6   \n",
       "California  25-04-1965         Orcutt     4       10     14   \n",
       "\n",
       "                                                  Description  \n",
       "State                                                          \n",
       "California  Two people were killed and five others injured...  \n",
       "California  Two men shot four people standing outside a CV...  \n",
       "California  Three people were killed and two were wounded ...  \n",
       "California  A shooting outside a nightclub killed one and ...  \n",
       "California  Five people were hit by celebratory gunfire fi...  \n",
       "...                                                       ...  \n",
       "California  Cleveland Elementary School shooting: A 16-yea...  \n",
       "California  Golden Dragon Massacre : Five members of a Chi...  \n",
       "California  California State University, Fullerton, shooti...  \n",
       "California  Marin County Civic Center attacks: The 17-year...  \n",
       "California  1965 Highway 101 sniper attack: A 16-year-old ...  \n",
       "\n",
       "[222 rows x 6 columns]"
      ]
     },
     "execution_count": 31,
     "metadata": {},
     "output_type": "execute_result"
    }
   ],
   "source": [
    "\n",
    "Shootingstate= Shooting.set_index('State')\n",
    "Shootingstate.loc['California'] # FUNCTION TO GET CASES IN YOUR DESIRE STATE OR CITY\n"
   ]
  },
  {
   "cell_type": "code",
   "execution_count": 32,
   "id": "b7711a2c",
   "metadata": {},
   "outputs": [
    {
     "data": {
      "text/plain": [
       "Date                                                    9/7/2020\n",
       "State                                                   Illinois\n",
       "Dead                                                           7\n",
       "Injured                                                       15\n",
       "Total                                                         15\n",
       "Description    Unknown assailants fired into a residence in E...\n",
       "dtype: object"
      ]
     },
     "execution_count": 32,
     "metadata": {},
     "output_type": "execute_result"
    }
   ],
   "source": [
    "Shooting1= Shooting.set_index('City')\n",
    "Shooting1.loc['Chicago'].max() # FUNCTION TO GET CASES IN YOUR DESIRE STATE OR CITY\n"
   ]
  },
  {
   "cell_type": "code",
   "execution_count": null,
   "id": "f4664409",
   "metadata": {},
   "outputs": [],
   "source": []
  },
  {
   "cell_type": "markdown",
   "id": "eaa2b152",
   "metadata": {},
   "source": [
    "### VISUALIZATION OF THE ABOVE DATA"
   ]
  },
  {
   "cell_type": "code",
   "execution_count": 33,
   "id": "a1e7cfeb",
   "metadata": {},
   "outputs": [
    {
     "data": {
      "text/plain": [
       "<seaborn.axisgrid.PairGrid at 0x248ef53d130>"
      ]
     },
     "execution_count": 33,
     "metadata": {},
     "output_type": "execute_result"
    },
    {
     "data": {
      "image/png": "[encoded data removed]",
      "text/plain": [
       "<Figure size 540x540 with 12 Axes>"
      ]
     },
     "metadata": {
      "needs_background": "light"
     },
     "output_type": "display_data"
    }
   ],
   "source": [
    "# pair plot to see thhe different relationship of the dataset\n",
    "sns.pairplot(Shooting)"
   ]
  },
  {
   "cell_type": "code",
   "execution_count": 34,
   "id": "8d209dbe",
   "metadata": {},
   "outputs": [
    {
     "data": {
      "text/plain": [
       "<seaborn.axisgrid.PairGrid at 0x248f3065220>"
      ]
     },
     "execution_count": 34,
     "metadata": {},
     "output_type": "execute_result"
    },
    {
     "data": {
      "image/png": "[encoded data removed]",
      "text/plain": [
       "<Figure size 408.75x360 with 6 Axes>"
      ]
     },
     "metadata": {
      "needs_background": "light"
     },
     "output_type": "display_data"
    }
   ],
   "source": [
    "sns.pairplot(data=Shooting ,hue='Dead')"
   ]
  },
  {
   "cell_type": "code",
   "execution_count": 35,
   "id": "549e8eea",
   "metadata": {},
   "outputs": [
    {
     "data": {
      "text/plain": [
       "<seaborn.axisgrid.PairGrid at 0x248ef5220a0>"
      ]
     },
     "execution_count": 35,
     "metadata": {},
     "output_type": "execute_result"
    },
    {
     "data": {
      "image/png": "[encoded data removed]",
      "text/plain": [
       "<Figure size 415.125x360 with 6 Axes>"
      ]
     },
     "metadata": {
      "needs_background": "light"
     },
     "output_type": "display_data"
    }
   ],
   "source": [
    "sns.pairplot(data=Shooting ,hue='Injured')"
   ]
  },
  {
   "cell_type": "code",
   "execution_count": 36,
   "id": "938cb30e",
   "metadata": {
    "scrolled": false
   },
   "outputs": [
    {
     "data": {
      "text/plain": [
       "<AxesSubplot:>"
      ]
     },
     "execution_count": 36,
     "metadata": {},
     "output_type": "execute_result"
    },
    {
     "data": {
      "image/png": "[encoded data removed]",
      "text/plain": [
       "<Figure size 1800x504 with 1 Axes>"
      ]
     },
     "metadata": {
      "needs_background": "light"
     },
     "output_type": "display_data"
    }
   ],
   "source": [
    "plt.figure(figsize=(25,7))\n",
    "Shooting['State'].value_counts().plot(kind='bar', color='#03051A')\n",
    "# since they are not numeric data we use .count to turn it to one\n",
    "# and expanded the canvas to accomodate the data"
   ]
  },
  {
   "cell_type": "code",
   "execution_count": 37,
   "id": "06ff70d8",
   "metadata": {
    "scrolled": true
   },
   "outputs": [
    {
     "data": {
      "text/plain": [
       "<AxesSubplot:>"
      ]
     },
     "execution_count": 37,
     "metadata": {},
     "output_type": "execute_result"
    },
    {
     "data": {
      "image/png": "[encoded data removed]",
      "text/plain": [
       "<Figure size 1800x504 with 1 Axes>"
      ]
     },
     "metadata": {
      "needs_background": "light"
     },
     "output_type": "display_data"
    }
   ],
   "source": [
    "plt.figure(figsize=(25,7))\n",
    "Shooting['Injured'].value_counts().plot(kind='bar')"
   ]
  },
  {
   "cell_type": "code",
   "execution_count": 38,
   "id": "d7694fbf",
   "metadata": {
    "scrolled": true
   },
   "outputs": [
    {
     "data": {
      "text/plain": [
       "<AxesSubplot:>"
      ]
     },
     "execution_count": 38,
     "metadata": {},
     "output_type": "execute_result"
    },
    {
     "data": {
      "image/png": "[encoded data removed]",
      "text/plain": [
       "<Figure size 1800x504 with 1 Axes>"
      ]
     },
     "metadata": {
      "needs_background": "light"
     },
     "output_type": "display_data"
    }
   ],
   "source": [
    "plt.figure(figsize=(25,7))\n",
    "Shooting['Dead'].value_counts().plot(kind='bar')"
   ]
  },
  {
   "cell_type": "code",
   "execution_count": 39,
   "id": "be16466b",
   "metadata": {
    "scrolled": false
   },
   "outputs": [
    {
     "data": {
      "text/plain": [
       "<AxesSubplot:>"
      ]
     },
     "execution_count": 39,
     "metadata": {},
     "output_type": "execute_result"
    },
    {
     "data": {
      "image/png": "[encoded data removed]",
      "text/plain": [
       "<Figure size 720x288 with 1 Axes>"
      ]
     },
     "metadata": {
      "needs_background": "light"
     },
     "output_type": "display_data"
    }
   ],
   "source": [
    "plt.figure(figsize=(10,4))\n",
    "Shooting['City'].value_counts().head(12).plot(kind='bar', color='r') # top cities"
   ]
  },
  {
   "cell_type": "code",
   "execution_count": 40,
   "id": "d070b658",
   "metadata": {
    "scrolled": false
   },
   "outputs": [
    {
     "data": {
      "text/plain": [
       "<AxesSubplot:>"
      ]
     },
     "execution_count": 40,
     "metadata": {},
     "output_type": "execute_result"
    },
    {
     "data": {
      "image/png": "[encoded data removed]",
      "text/plain": [
       "<Figure size 1800x504 with 1 Axes>"
      ]
     },
     "metadata": {
      "needs_background": "light"
     },
     "output_type": "display_data"
    }
   ],
   "source": [
    "plt.figure(figsize=(25,7))\n",
    "Shooting['State'].value_counts().head(12).plot(kind='bar', color='g') # top states\n"
   ]
  },
  {
   "cell_type": "code",
   "execution_count": 41,
   "id": "939f62d8",
   "metadata": {
    "scrolled": true
   },
   "outputs": [
    {
     "data": {
      "text/html": [
       "<div>\n",
       "<style scoped>\n",
       "    .dataframe tbody tr th:only-of-type {\n",
       "        vertical-align: middle;\n",
       "    }\n",
       "\n",
       "    .dataframe tbody tr th {\n",
       "        vertical-align: top;\n",
       "    }\n",
       "\n",
       "    .dataframe thead th {\n",
       "        text-align: right;\n",
       "    }\n",
       "</style>\n",
       "<table border=\"1\" class=\"dataframe\">\n",
       "  <thead>\n",
       "    <tr style=\"text-align: right;\">\n",
       "      <th></th>\n",
       "      <th>Date</th>\n",
       "      <th>City</th>\n",
       "      <th>State</th>\n",
       "      <th>Dead</th>\n",
       "      <th>Injured</th>\n",
       "      <th>Total</th>\n",
       "      <th>Description</th>\n",
       "    </tr>\n",
       "  </thead>\n",
       "  <tbody>\n",
       "    <tr>\n",
       "      <th>2536</th>\n",
       "      <td>10/1/2017</td>\n",
       "      <td>Paradise</td>\n",
       "      <td>Nevada</td>\n",
       "      <td>61</td>\n",
       "      <td>411</td>\n",
       "      <td>472</td>\n",
       "      <td>2017 Las Vegas shooting: A man on the 32nd flo...</td>\n",
       "    </tr>\n",
       "    <tr>\n",
       "      <th>2538</th>\n",
       "      <td>6/12/2016</td>\n",
       "      <td>Orlando</td>\n",
       "      <td>Florida</td>\n",
       "      <td>50</td>\n",
       "      <td>58</td>\n",
       "      <td>108</td>\n",
       "      <td>Orlando nightclub shooting: A gunman killed 49...</td>\n",
       "    </tr>\n",
       "    <tr>\n",
       "      <th>2580</th>\n",
       "      <td>20-07-2012</td>\n",
       "      <td>Aurora</td>\n",
       "      <td>Colorado</td>\n",
       "      <td>12</td>\n",
       "      <td>70</td>\n",
       "      <td>82</td>\n",
       "      <td>Aurora, Colorado, movie theater shooting: Jame...</td>\n",
       "    </tr>\n",
       "    <tr>\n",
       "      <th>84</th>\n",
       "      <td>4/7/2022</td>\n",
       "      <td>Highland Park</td>\n",
       "      <td>Illinois</td>\n",
       "      <td>7</td>\n",
       "      <td>48</td>\n",
       "      <td>55</td>\n",
       "      <td>Highland Park parade shooting: Seven people we...</td>\n",
       "    </tr>\n",
       "    <tr>\n",
       "      <th>2653</th>\n",
       "      <td>16-10-1991</td>\n",
       "      <td>Killeen</td>\n",
       "      <td>Texas</td>\n",
       "      <td>24</td>\n",
       "      <td>27</td>\n",
       "      <td>51</td>\n",
       "      <td>Killeen, Texas, Luby's Restaurant shooting: A ...</td>\n",
       "    </tr>\n",
       "    <tr>\n",
       "      <th>2607</th>\n",
       "      <td>16-04-2007</td>\n",
       "      <td>Blacksburg</td>\n",
       "      <td>Virginia</td>\n",
       "      <td>33</td>\n",
       "      <td>17</td>\n",
       "      <td>50</td>\n",
       "      <td>Virginia Tech shooting: A 23-year-old student ...</td>\n",
       "    </tr>\n",
       "    <tr>\n",
       "      <th>2532</th>\n",
       "      <td>11/5/2017</td>\n",
       "      <td>Sutherland Springs</td>\n",
       "      <td>Texas</td>\n",
       "      <td>27</td>\n",
       "      <td>22</td>\n",
       "      <td>49</td>\n",
       "      <td>Sutherland Springs church shooting: A gunman a...</td>\n",
       "    </tr>\n",
       "    <tr>\n",
       "      <th>2698</th>\n",
       "      <td>8/1/1966</td>\n",
       "      <td>Austin</td>\n",
       "      <td>Texas</td>\n",
       "      <td>17</td>\n",
       "      <td>31</td>\n",
       "      <td>48</td>\n",
       "      <td>University of Texas tower shooting: A student ...</td>\n",
       "    </tr>\n",
       "    <tr>\n",
       "      <th>2593</th>\n",
       "      <td>11/5/2009</td>\n",
       "      <td>Fort Hood</td>\n",
       "      <td>Texas</td>\n",
       "      <td>14</td>\n",
       "      <td>33</td>\n",
       "      <td>47</td>\n",
       "      <td>2009 Fort Hood shooting: A U.S. army psychiatr...</td>\n",
       "    </tr>\n",
       "    <tr>\n",
       "      <th>2116</th>\n",
       "      <td>8/3/2019</td>\n",
       "      <td>El Paso</td>\n",
       "      <td>Texas</td>\n",
       "      <td>23</td>\n",
       "      <td>23</td>\n",
       "      <td>46</td>\n",
       "      <td>2019 El Paso shooting: 23 people were killed a...</td>\n",
       "    </tr>\n",
       "  </tbody>\n",
       "</table>\n",
       "</div>"
      ],
      "text/plain": [
       "            Date                City     State  Dead  Injured  Total  \\\n",
       "2536   10/1/2017            Paradise    Nevada    61      411    472   \n",
       "2538   6/12/2016             Orlando   Florida    50       58    108   \n",
       "2580  20-07-2012              Aurora  Colorado    12       70     82   \n",
       "84      4/7/2022       Highland Park  Illinois     7       48     55   \n",
       "2653  16-10-1991             Killeen     Texas    24       27     51   \n",
       "2607  16-04-2007          Blacksburg  Virginia    33       17     50   \n",
       "2532   11/5/2017  Sutherland Springs     Texas    27       22     49   \n",
       "2698    8/1/1966              Austin     Texas    17       31     48   \n",
       "2593   11/5/2009           Fort Hood     Texas    14       33     47   \n",
       "2116    8/3/2019             El Paso     Texas    23       23     46   \n",
       "\n",
       "                                            Description  \n",
       "2536  2017 Las Vegas shooting: A man on the 32nd flo...  \n",
       "2538  Orlando nightclub shooting: A gunman killed 49...  \n",
       "2580  Aurora, Colorado, movie theater shooting: Jame...  \n",
       "84    Highland Park parade shooting: Seven people we...  \n",
       "2653  Killeen, Texas, Luby's Restaurant shooting: A ...  \n",
       "2607  Virginia Tech shooting: A 23-year-old student ...  \n",
       "2532  Sutherland Springs church shooting: A gunman a...  \n",
       "2698  University of Texas tower shooting: A student ...  \n",
       "2593  2009 Fort Hood shooting: A U.S. army psychiatr...  \n",
       "2116  2019 El Paso shooting: 23 people were killed a...  "
      ]
     },
     "execution_count": 41,
     "metadata": {},
     "output_type": "execute_result"
    }
   ],
   "source": [
    "sort_shooting = Shooting.sort_values(by=['Total'], ascending=False).head(10)\n",
    "sort_shooting"
   ]
  },
  {
   "cell_type": "code",
   "execution_count": 42,
   "id": "f183ba79",
   "metadata": {
    "scrolled": true
   },
   "outputs": [
    {
     "data": {
      "text/plain": [
       "<AxesSubplot:>"
      ]
     },
     "execution_count": 42,
     "metadata": {},
     "output_type": "execute_result"
    },
    {
     "data": {
      "text/plain": [
       "<Figure size 1800x504 with 0 Axes>"
      ]
     },
     "metadata": {},
     "output_type": "display_data"
    },
    {
     "data": {
      "image/png": "[encoded data removed]",
      "text/plain": [
       "<Figure size 432x288 with 1 Axes>"
      ]
     },
     "metadata": {
      "needs_background": "light"
     },
     "output_type": "display_data"
    }
   ],
   "source": [
    "plt.figure(figsize=(25,7))\n",
    "sort_shooting[['Injured','Dead']].plot(kind='bar') # injured and dead on plot\n",
    "# observed it took the serial number as x asis= chnging to date to index 0."
   ]
  },
  {
   "cell_type": "code",
   "execution_count": 43,
   "id": "1ff890e5",
   "metadata": {
    "scrolled": true
   },
   "outputs": [
    {
     "data": {
      "text/html": [
       "<div>\n",
       "<style scoped>\n",
       "    .dataframe tbody tr th:only-of-type {\n",
       "        vertical-align: middle;\n",
       "    }\n",
       "\n",
       "    .dataframe tbody tr th {\n",
       "        vertical-align: top;\n",
       "    }\n",
       "\n",
       "    .dataframe thead th {\n",
       "        text-align: right;\n",
       "    }\n",
       "</style>\n",
       "<table border=\"1\" class=\"dataframe\">\n",
       "  <thead>\n",
       "    <tr style=\"text-align: right;\">\n",
       "      <th></th>\n",
       "      <th>City</th>\n",
       "      <th>State</th>\n",
       "      <th>Dead</th>\n",
       "      <th>Injured</th>\n",
       "      <th>Total</th>\n",
       "      <th>Description</th>\n",
       "    </tr>\n",
       "    <tr>\n",
       "      <th>Date</th>\n",
       "      <th></th>\n",
       "      <th></th>\n",
       "      <th></th>\n",
       "      <th></th>\n",
       "      <th></th>\n",
       "      <th></th>\n",
       "    </tr>\n",
       "  </thead>\n",
       "  <tbody>\n",
       "    <tr>\n",
       "      <th>10/1/2017</th>\n",
       "      <td>Paradise</td>\n",
       "      <td>Nevada</td>\n",
       "      <td>61</td>\n",
       "      <td>411</td>\n",
       "      <td>472</td>\n",
       "      <td>2017 Las Vegas shooting: A man on the 32nd flo...</td>\n",
       "    </tr>\n",
       "    <tr>\n",
       "      <th>6/12/2016</th>\n",
       "      <td>Orlando</td>\n",
       "      <td>Florida</td>\n",
       "      <td>50</td>\n",
       "      <td>58</td>\n",
       "      <td>108</td>\n",
       "      <td>Orlando nightclub shooting: A gunman killed 49...</td>\n",
       "    </tr>\n",
       "    <tr>\n",
       "      <th>20-07-2012</th>\n",
       "      <td>Aurora</td>\n",
       "      <td>Colorado</td>\n",
       "      <td>12</td>\n",
       "      <td>70</td>\n",
       "      <td>82</td>\n",
       "      <td>Aurora, Colorado, movie theater shooting: Jame...</td>\n",
       "    </tr>\n",
       "    <tr>\n",
       "      <th>4/7/2022</th>\n",
       "      <td>Highland Park</td>\n",
       "      <td>Illinois</td>\n",
       "      <td>7</td>\n",
       "      <td>48</td>\n",
       "      <td>55</td>\n",
       "      <td>Highland Park parade shooting: Seven people we...</td>\n",
       "    </tr>\n",
       "    <tr>\n",
       "      <th>16-10-1991</th>\n",
       "      <td>Killeen</td>\n",
       "      <td>Texas</td>\n",
       "      <td>24</td>\n",
       "      <td>27</td>\n",
       "      <td>51</td>\n",
       "      <td>Killeen, Texas, Luby's Restaurant shooting: A ...</td>\n",
       "    </tr>\n",
       "    <tr>\n",
       "      <th>16-04-2007</th>\n",
       "      <td>Blacksburg</td>\n",
       "      <td>Virginia</td>\n",
       "      <td>33</td>\n",
       "      <td>17</td>\n",
       "      <td>50</td>\n",
       "      <td>Virginia Tech shooting: A 23-year-old student ...</td>\n",
       "    </tr>\n",
       "    <tr>\n",
       "      <th>11/5/2017</th>\n",
       "      <td>Sutherland Springs</td>\n",
       "      <td>Texas</td>\n",
       "      <td>27</td>\n",
       "      <td>22</td>\n",
       "      <td>49</td>\n",
       "      <td>Sutherland Springs church shooting: A gunman a...</td>\n",
       "    </tr>\n",
       "    <tr>\n",
       "      <th>8/1/1966</th>\n",
       "      <td>Austin</td>\n",
       "      <td>Texas</td>\n",
       "      <td>17</td>\n",
       "      <td>31</td>\n",
       "      <td>48</td>\n",
       "      <td>University of Texas tower shooting: A student ...</td>\n",
       "    </tr>\n",
       "    <tr>\n",
       "      <th>11/5/2009</th>\n",
       "      <td>Fort Hood</td>\n",
       "      <td>Texas</td>\n",
       "      <td>14</td>\n",
       "      <td>33</td>\n",
       "      <td>47</td>\n",
       "      <td>2009 Fort Hood shooting: A U.S. army psychiatr...</td>\n",
       "    </tr>\n",
       "    <tr>\n",
       "      <th>8/3/2019</th>\n",
       "      <td>El Paso</td>\n",
       "      <td>Texas</td>\n",
       "      <td>23</td>\n",
       "      <td>23</td>\n",
       "      <td>46</td>\n",
       "      <td>2019 El Paso shooting: 23 people were killed a...</td>\n",
       "    </tr>\n",
       "  </tbody>\n",
       "</table>\n",
       "</div>"
      ],
      "text/plain": [
       "                          City     State  Dead  Injured  Total  \\\n",
       "Date                                                             \n",
       "10/1/2017             Paradise    Nevada    61      411    472   \n",
       "6/12/2016              Orlando   Florida    50       58    108   \n",
       "20-07-2012              Aurora  Colorado    12       70     82   \n",
       "4/7/2022         Highland Park  Illinois     7       48     55   \n",
       "16-10-1991             Killeen     Texas    24       27     51   \n",
       "16-04-2007          Blacksburg  Virginia    33       17     50   \n",
       "11/5/2017   Sutherland Springs     Texas    27       22     49   \n",
       "8/1/1966                Austin     Texas    17       31     48   \n",
       "11/5/2009            Fort Hood     Texas    14       33     47   \n",
       "8/3/2019               El Paso     Texas    23       23     46   \n",
       "\n",
       "                                                  Description  \n",
       "Date                                                           \n",
       "10/1/2017   2017 Las Vegas shooting: A man on the 32nd flo...  \n",
       "6/12/2016   Orlando nightclub shooting: A gunman killed 49...  \n",
       "20-07-2012  Aurora, Colorado, movie theater shooting: Jame...  \n",
       "4/7/2022    Highland Park parade shooting: Seven people we...  \n",
       "16-10-1991  Killeen, Texas, Luby's Restaurant shooting: A ...  \n",
       "16-04-2007  Virginia Tech shooting: A 23-year-old student ...  \n",
       "11/5/2017   Sutherland Springs church shooting: A gunman a...  \n",
       "8/1/1966    University of Texas tower shooting: A student ...  \n",
       "11/5/2009   2009 Fort Hood shooting: A U.S. army psychiatr...  \n",
       "8/3/2019    2019 El Paso shooting: 23 people were killed a...  "
      ]
     },
     "execution_count": 43,
     "metadata": {},
     "output_type": "execute_result"
    }
   ],
   "source": [
    "bydate=sort_shooting.set_index('Date')\n",
    "bydate\n"
   ]
  },
  {
   "cell_type": "code",
   "execution_count": 49,
   "id": "06b6b944",
   "metadata": {
    "scrolled": true
   },
   "outputs": [
    {
     "ename": "ValueError",
     "evalue": "If using all scalar values, you must pass an index",
     "output_type": "error",
     "traceback": [
      "\u001b[1;31m---------------------------------------------------------------------------\u001b[0m",
      "\u001b[1;31mValueError\u001b[0m                                Traceback (most recent call last)",
      "Input \u001b[1;32mIn [49]\u001b[0m, in \u001b[0;36m<cell line: 1>\u001b[1;34m()\u001b[0m\n\u001b[1;32m----> 1\u001b[0m \u001b[43msns\u001b[49m\u001b[38;5;241;43m.\u001b[39;49m\u001b[43mhistplot\u001b[49m\u001b[43m(\u001b[49m\u001b[43mx\u001b[49m\u001b[43m \u001b[49m\u001b[38;5;241;43m=\u001b[39;49m\u001b[43mbydate\u001b[49m\u001b[43m[\u001b[49m\u001b[43m[\u001b[49m\u001b[38;5;124;43m'\u001b[39;49m\u001b[38;5;124;43mInjured\u001b[39;49m\u001b[38;5;124;43m'\u001b[39;49m\u001b[43m,\u001b[49m\u001b[38;5;124;43m'\u001b[39;49m\u001b[38;5;124;43mDead\u001b[39;49m\u001b[38;5;124;43m'\u001b[39;49m\u001b[43m]\u001b[49m\u001b[43m]\u001b[49m\u001b[43m)\u001b[49m\n",
      "File \u001b[1;32m~\\anaconda3\\lib\\site-packages\\seaborn\\distributions.py:1430\u001b[0m, in \u001b[0;36mhistplot\u001b[1;34m(data, x, y, hue, weights, stat, bins, binwidth, binrange, discrete, cumulative, common_bins, common_norm, multiple, element, fill, shrink, kde, kde_kws, line_kws, thresh, pthresh, pmax, cbar, cbar_ax, cbar_kws, palette, hue_order, hue_norm, color, log_scale, legend, ax, **kwargs)\u001b[0m\n\u001b[0;32m   1409\u001b[0m \u001b[38;5;28;01mdef\u001b[39;00m \u001b[38;5;21mhistplot\u001b[39m(\n\u001b[0;32m   1410\u001b[0m     data\u001b[38;5;241m=\u001b[39m\u001b[38;5;28;01mNone\u001b[39;00m, \u001b[38;5;241m*\u001b[39m,\n\u001b[0;32m   1411\u001b[0m     \u001b[38;5;66;03m# Vector variables\u001b[39;00m\n\u001b[1;32m   (...)\u001b[0m\n\u001b[0;32m   1427\u001b[0m     \u001b[38;5;241m*\u001b[39m\u001b[38;5;241m*\u001b[39mkwargs,\n\u001b[0;32m   1428\u001b[0m ):\n\u001b[1;32m-> 1430\u001b[0m     p \u001b[38;5;241m=\u001b[39m \u001b[43m_DistributionPlotter\u001b[49m\u001b[43m(\u001b[49m\n\u001b[0;32m   1431\u001b[0m \u001b[43m        \u001b[49m\u001b[43mdata\u001b[49m\u001b[38;5;241;43m=\u001b[39;49m\u001b[43mdata\u001b[49m\u001b[43m,\u001b[49m\n\u001b[0;32m   1432\u001b[0m \u001b[43m        \u001b[49m\u001b[43mvariables\u001b[49m\u001b[38;5;241;43m=\u001b[39;49m\u001b[43m_DistributionPlotter\u001b[49m\u001b[38;5;241;43m.\u001b[39;49m\u001b[43mget_semantics\u001b[49m\u001b[43m(\u001b[49m\u001b[38;5;28;43mlocals\u001b[39;49m\u001b[43m(\u001b[49m\u001b[43m)\u001b[49m\u001b[43m)\u001b[49m\n\u001b[0;32m   1433\u001b[0m \u001b[43m    \u001b[49m\u001b[43m)\u001b[49m\n\u001b[0;32m   1435\u001b[0m     p\u001b[38;5;241m.\u001b[39mmap_hue(palette\u001b[38;5;241m=\u001b[39mpalette, order\u001b[38;5;241m=\u001b[39mhue_order, norm\u001b[38;5;241m=\u001b[39mhue_norm)\n\u001b[0;32m   1437\u001b[0m     \u001b[38;5;28;01mif\u001b[39;00m ax \u001b[38;5;129;01mis\u001b[39;00m \u001b[38;5;28;01mNone\u001b[39;00m:\n",
      "File \u001b[1;32m~\\anaconda3\\lib\\site-packages\\seaborn\\distributions.py:111\u001b[0m, in \u001b[0;36m_DistributionPlotter.__init__\u001b[1;34m(self, data, variables)\u001b[0m\n\u001b[0;32m    105\u001b[0m \u001b[38;5;28;01mdef\u001b[39;00m \u001b[38;5;21m__init__\u001b[39m(\n\u001b[0;32m    106\u001b[0m     \u001b[38;5;28mself\u001b[39m,\n\u001b[0;32m    107\u001b[0m     data\u001b[38;5;241m=\u001b[39m\u001b[38;5;28;01mNone\u001b[39;00m,\n\u001b[0;32m    108\u001b[0m     variables\u001b[38;5;241m=\u001b[39m{},\n\u001b[0;32m    109\u001b[0m ):\n\u001b[1;32m--> 111\u001b[0m     \u001b[38;5;28;43msuper\u001b[39;49m\u001b[43m(\u001b[49m\u001b[43m)\u001b[49m\u001b[38;5;241;43m.\u001b[39;49m\u001b[38;5;21;43m__init__\u001b[39;49m\u001b[43m(\u001b[49m\u001b[43mdata\u001b[49m\u001b[38;5;241;43m=\u001b[39;49m\u001b[43mdata\u001b[49m\u001b[43m,\u001b[49m\u001b[43m \u001b[49m\u001b[43mvariables\u001b[49m\u001b[38;5;241;43m=\u001b[39;49m\u001b[43mvariables\u001b[49m\u001b[43m)\u001b[49m\n",
      "File \u001b[1;32m~\\anaconda3\\lib\\site-packages\\seaborn\\_core.py:605\u001b[0m, in \u001b[0;36mVectorPlotter.__init__\u001b[1;34m(self, data, variables)\u001b[0m\n\u001b[0;32m    603\u001b[0m \u001b[38;5;28;01mdef\u001b[39;00m \u001b[38;5;21m__init__\u001b[39m(\u001b[38;5;28mself\u001b[39m, data\u001b[38;5;241m=\u001b[39m\u001b[38;5;28;01mNone\u001b[39;00m, variables\u001b[38;5;241m=\u001b[39m{}):\n\u001b[1;32m--> 605\u001b[0m     \u001b[38;5;28;43mself\u001b[39;49m\u001b[38;5;241;43m.\u001b[39;49m\u001b[43massign_variables\u001b[49m\u001b[43m(\u001b[49m\u001b[43mdata\u001b[49m\u001b[43m,\u001b[49m\u001b[43m \u001b[49m\u001b[43mvariables\u001b[49m\u001b[43m)\u001b[49m\n\u001b[0;32m    607\u001b[0m     \u001b[38;5;28;01mfor\u001b[39;00m var, \u001b[38;5;28mcls\u001b[39m \u001b[38;5;129;01min\u001b[39;00m \u001b[38;5;28mself\u001b[39m\u001b[38;5;241m.\u001b[39m_semantic_mappings\u001b[38;5;241m.\u001b[39mitems():\n\u001b[0;32m    608\u001b[0m \n\u001b[0;32m    609\u001b[0m         \u001b[38;5;66;03m# Create the mapping function\u001b[39;00m\n\u001b[0;32m    610\u001b[0m         map_func \u001b[38;5;241m=\u001b[39m partial(\u001b[38;5;28mcls\u001b[39m\u001b[38;5;241m.\u001b[39mmap, plotter\u001b[38;5;241m=\u001b[39m\u001b[38;5;28mself\u001b[39m)\n",
      "File \u001b[1;32m~\\anaconda3\\lib\\site-packages\\seaborn\\_core.py:668\u001b[0m, in \u001b[0;36mVectorPlotter.assign_variables\u001b[1;34m(self, data, variables)\u001b[0m\n\u001b[0;32m    666\u001b[0m \u001b[38;5;28;01melse\u001b[39;00m:\n\u001b[0;32m    667\u001b[0m     \u001b[38;5;28mself\u001b[39m\u001b[38;5;241m.\u001b[39minput_format \u001b[38;5;241m=\u001b[39m \u001b[38;5;124m\"\u001b[39m\u001b[38;5;124mlong\u001b[39m\u001b[38;5;124m\"\u001b[39m\n\u001b[1;32m--> 668\u001b[0m     plot_data, variables \u001b[38;5;241m=\u001b[39m \u001b[38;5;28mself\u001b[39m\u001b[38;5;241m.\u001b[39m_assign_variables_longform(\n\u001b[0;32m    669\u001b[0m         data, \u001b[38;5;241m*\u001b[39m\u001b[38;5;241m*\u001b[39mvariables,\n\u001b[0;32m    670\u001b[0m     )\n\u001b[0;32m    672\u001b[0m \u001b[38;5;28mself\u001b[39m\u001b[38;5;241m.\u001b[39mplot_data \u001b[38;5;241m=\u001b[39m plot_data\n\u001b[0;32m    673\u001b[0m \u001b[38;5;28mself\u001b[39m\u001b[38;5;241m.\u001b[39mvariables \u001b[38;5;241m=\u001b[39m variables\n",
      "File \u001b[1;32m~\\anaconda3\\lib\\site-packages\\seaborn\\_core.py:927\u001b[0m, in \u001b[0;36mVectorPlotter._assign_variables_longform\u001b[1;34m(self, data, **kwargs)\u001b[0m\n\u001b[0;32m    923\u001b[0m         variables[key] \u001b[38;5;241m=\u001b[39m \u001b[38;5;28mgetattr\u001b[39m(val, \u001b[38;5;124m\"\u001b[39m\u001b[38;5;124mname\u001b[39m\u001b[38;5;124m\"\u001b[39m, \u001b[38;5;28;01mNone\u001b[39;00m)\n\u001b[0;32m    925\u001b[0m \u001b[38;5;66;03m# Construct a tidy plot DataFrame. This will convert a number of\u001b[39;00m\n\u001b[0;32m    926\u001b[0m \u001b[38;5;66;03m# types automatically, aligning on index in case of pandas objects\u001b[39;00m\n\u001b[1;32m--> 927\u001b[0m plot_data \u001b[38;5;241m=\u001b[39m \u001b[43mpd\u001b[49m\u001b[38;5;241;43m.\u001b[39;49m\u001b[43mDataFrame\u001b[49m\u001b[43m(\u001b[49m\u001b[43mplot_data\u001b[49m\u001b[43m)\u001b[49m\n\u001b[0;32m    929\u001b[0m \u001b[38;5;66;03m# Reduce the variables dictionary to fields with valid data\u001b[39;00m\n\u001b[0;32m    930\u001b[0m variables \u001b[38;5;241m=\u001b[39m {\n\u001b[0;32m    931\u001b[0m     var: name\n\u001b[0;32m    932\u001b[0m     \u001b[38;5;28;01mfor\u001b[39;00m var, name \u001b[38;5;129;01min\u001b[39;00m variables\u001b[38;5;241m.\u001b[39mitems()\n\u001b[0;32m    933\u001b[0m     \u001b[38;5;28;01mif\u001b[39;00m plot_data[var]\u001b[38;5;241m.\u001b[39mnotnull()\u001b[38;5;241m.\u001b[39many()\n\u001b[0;32m    934\u001b[0m }\n",
      "File \u001b[1;32m~\\anaconda3\\lib\\site-packages\\pandas\\core\\frame.py:636\u001b[0m, in \u001b[0;36mDataFrame.__init__\u001b[1;34m(self, data, index, columns, dtype, copy)\u001b[0m\n\u001b[0;32m    630\u001b[0m     mgr \u001b[38;5;241m=\u001b[39m \u001b[38;5;28mself\u001b[39m\u001b[38;5;241m.\u001b[39m_init_mgr(\n\u001b[0;32m    631\u001b[0m         data, axes\u001b[38;5;241m=\u001b[39m{\u001b[38;5;124m\"\u001b[39m\u001b[38;5;124mindex\u001b[39m\u001b[38;5;124m\"\u001b[39m: index, \u001b[38;5;124m\"\u001b[39m\u001b[38;5;124mcolumns\u001b[39m\u001b[38;5;124m\"\u001b[39m: columns}, dtype\u001b[38;5;241m=\u001b[39mdtype, copy\u001b[38;5;241m=\u001b[39mcopy\n\u001b[0;32m    632\u001b[0m     )\n\u001b[0;32m    634\u001b[0m \u001b[38;5;28;01melif\u001b[39;00m \u001b[38;5;28misinstance\u001b[39m(data, \u001b[38;5;28mdict\u001b[39m):\n\u001b[0;32m    635\u001b[0m     \u001b[38;5;66;03m# GH#38939 de facto copy defaults to False only in non-dict cases\u001b[39;00m\n\u001b[1;32m--> 636\u001b[0m     mgr \u001b[38;5;241m=\u001b[39m \u001b[43mdict_to_mgr\u001b[49m\u001b[43m(\u001b[49m\u001b[43mdata\u001b[49m\u001b[43m,\u001b[49m\u001b[43m \u001b[49m\u001b[43mindex\u001b[49m\u001b[43m,\u001b[49m\u001b[43m \u001b[49m\u001b[43mcolumns\u001b[49m\u001b[43m,\u001b[49m\u001b[43m \u001b[49m\u001b[43mdtype\u001b[49m\u001b[38;5;241;43m=\u001b[39;49m\u001b[43mdtype\u001b[49m\u001b[43m,\u001b[49m\u001b[43m \u001b[49m\u001b[43mcopy\u001b[49m\u001b[38;5;241;43m=\u001b[39;49m\u001b[43mcopy\u001b[49m\u001b[43m,\u001b[49m\u001b[43m \u001b[49m\u001b[43mtyp\u001b[49m\u001b[38;5;241;43m=\u001b[39;49m\u001b[43mmanager\u001b[49m\u001b[43m)\u001b[49m\n\u001b[0;32m    637\u001b[0m \u001b[38;5;28;01melif\u001b[39;00m \u001b[38;5;28misinstance\u001b[39m(data, ma\u001b[38;5;241m.\u001b[39mMaskedArray):\n\u001b[0;32m    638\u001b[0m     \u001b[38;5;28;01mimport\u001b[39;00m \u001b[38;5;21;01mnumpy\u001b[39;00m\u001b[38;5;21;01m.\u001b[39;00m\u001b[38;5;21;01mma\u001b[39;00m\u001b[38;5;21;01m.\u001b[39;00m\u001b[38;5;21;01mmrecords\u001b[39;00m \u001b[38;5;28;01mas\u001b[39;00m \u001b[38;5;21;01mmrecords\u001b[39;00m\n",
      "File \u001b[1;32m~\\anaconda3\\lib\\site-packages\\pandas\\core\\internals\\construction.py:502\u001b[0m, in \u001b[0;36mdict_to_mgr\u001b[1;34m(data, index, columns, dtype, typ, copy)\u001b[0m\n\u001b[0;32m    494\u001b[0m     arrays \u001b[38;5;241m=\u001b[39m [\n\u001b[0;32m    495\u001b[0m         x\n\u001b[0;32m    496\u001b[0m         \u001b[38;5;28;01mif\u001b[39;00m \u001b[38;5;129;01mnot\u001b[39;00m \u001b[38;5;28mhasattr\u001b[39m(x, \u001b[38;5;124m\"\u001b[39m\u001b[38;5;124mdtype\u001b[39m\u001b[38;5;124m\"\u001b[39m) \u001b[38;5;129;01mor\u001b[39;00m \u001b[38;5;129;01mnot\u001b[39;00m \u001b[38;5;28misinstance\u001b[39m(x\u001b[38;5;241m.\u001b[39mdtype, ExtensionDtype)\n\u001b[0;32m    497\u001b[0m         \u001b[38;5;28;01melse\u001b[39;00m x\u001b[38;5;241m.\u001b[39mcopy()\n\u001b[0;32m    498\u001b[0m         \u001b[38;5;28;01mfor\u001b[39;00m x \u001b[38;5;129;01min\u001b[39;00m arrays\n\u001b[0;32m    499\u001b[0m     ]\n\u001b[0;32m    500\u001b[0m     \u001b[38;5;66;03m# TODO: can we get rid of the dt64tz special case above?\u001b[39;00m\n\u001b[1;32m--> 502\u001b[0m \u001b[38;5;28;01mreturn\u001b[39;00m \u001b[43marrays_to_mgr\u001b[49m\u001b[43m(\u001b[49m\u001b[43marrays\u001b[49m\u001b[43m,\u001b[49m\u001b[43m \u001b[49m\u001b[43mcolumns\u001b[49m\u001b[43m,\u001b[49m\u001b[43m \u001b[49m\u001b[43mindex\u001b[49m\u001b[43m,\u001b[49m\u001b[43m \u001b[49m\u001b[43mdtype\u001b[49m\u001b[38;5;241;43m=\u001b[39;49m\u001b[43mdtype\u001b[49m\u001b[43m,\u001b[49m\u001b[43m \u001b[49m\u001b[43mtyp\u001b[49m\u001b[38;5;241;43m=\u001b[39;49m\u001b[43mtyp\u001b[49m\u001b[43m,\u001b[49m\u001b[43m \u001b[49m\u001b[43mconsolidate\u001b[49m\u001b[38;5;241;43m=\u001b[39;49m\u001b[43mcopy\u001b[49m\u001b[43m)\u001b[49m\n",
      "File \u001b[1;32m~\\anaconda3\\lib\\site-packages\\pandas\\core\\internals\\construction.py:120\u001b[0m, in \u001b[0;36marrays_to_mgr\u001b[1;34m(arrays, columns, index, dtype, verify_integrity, typ, consolidate)\u001b[0m\n\u001b[0;32m    117\u001b[0m \u001b[38;5;28;01mif\u001b[39;00m verify_integrity:\n\u001b[0;32m    118\u001b[0m     \u001b[38;5;66;03m# figure out the index, if necessary\u001b[39;00m\n\u001b[0;32m    119\u001b[0m     \u001b[38;5;28;01mif\u001b[39;00m index \u001b[38;5;129;01mis\u001b[39;00m \u001b[38;5;28;01mNone\u001b[39;00m:\n\u001b[1;32m--> 120\u001b[0m         index \u001b[38;5;241m=\u001b[39m \u001b[43m_extract_index\u001b[49m\u001b[43m(\u001b[49m\u001b[43marrays\u001b[49m\u001b[43m)\u001b[49m\n\u001b[0;32m    121\u001b[0m     \u001b[38;5;28;01melse\u001b[39;00m:\n\u001b[0;32m    122\u001b[0m         index \u001b[38;5;241m=\u001b[39m ensure_index(index)\n",
      "File \u001b[1;32m~\\anaconda3\\lib\\site-packages\\pandas\\core\\internals\\construction.py:664\u001b[0m, in \u001b[0;36m_extract_index\u001b[1;34m(data)\u001b[0m\n\u001b[0;32m    661\u001b[0m         \u001b[38;5;28;01mraise\u001b[39;00m \u001b[38;5;167;01mValueError\u001b[39;00m(\u001b[38;5;124m\"\u001b[39m\u001b[38;5;124mPer-column arrays must each be 1-dimensional\u001b[39m\u001b[38;5;124m\"\u001b[39m)\n\u001b[0;32m    663\u001b[0m \u001b[38;5;28;01mif\u001b[39;00m \u001b[38;5;129;01mnot\u001b[39;00m indexes \u001b[38;5;129;01mand\u001b[39;00m \u001b[38;5;129;01mnot\u001b[39;00m raw_lengths:\n\u001b[1;32m--> 664\u001b[0m     \u001b[38;5;28;01mraise\u001b[39;00m \u001b[38;5;167;01mValueError\u001b[39;00m(\u001b[38;5;124m\"\u001b[39m\u001b[38;5;124mIf using all scalar values, you must pass an index\u001b[39m\u001b[38;5;124m\"\u001b[39m)\n\u001b[0;32m    666\u001b[0m \u001b[38;5;28;01melif\u001b[39;00m have_series:\n\u001b[0;32m    667\u001b[0m     index \u001b[38;5;241m=\u001b[39m union_indexes(indexes)\n",
      "\u001b[1;31mValueError\u001b[0m: If using all scalar values, you must pass an index"
     ]
    }
   ],
   "source": [
    "sns.histplot(x =bydate[['Injured','Dead']])"
   ]
  },
  {
   "cell_type": "code",
   "execution_count": null,
   "id": "75e27648",
   "metadata": {},
   "outputs": [],
   "source": []
  },
  {
   "cell_type": "code",
   "execution_count": null,
   "id": "52f495ae",
   "metadata": {
    "scrolled": false
   },
   "outputs": [],
   "source": [
    "\n",
    "sns.jointplot(x = 'Dead', y= 'Injured', data =Shooting, color='#03051A')\n"
   ]
  },
  {
   "cell_type": "code",
   "execution_count": 10,
   "id": "b014ae0a",
   "metadata": {
    "scrolled": true
   },
   "outputs": [
    {
     "data": {
      "text/html": [
       "<div>\n",
       "<style scoped>\n",
       "    .dataframe tbody tr th:only-of-type {\n",
       "        vertical-align: middle;\n",
       "    }\n",
       "\n",
       "    .dataframe tbody tr th {\n",
       "        vertical-align: top;\n",
       "    }\n",
       "\n",
       "    .dataframe thead th {\n",
       "        text-align: right;\n",
       "    }\n",
       "</style>\n",
       "<table border=\"1\" class=\"dataframe\">\n",
       "  <thead>\n",
       "    <tr style=\"text-align: right;\">\n",
       "      <th></th>\n",
       "      <th>Dead</th>\n",
       "      <th>Injured</th>\n",
       "      <th>Total</th>\n",
       "    </tr>\n",
       "  </thead>\n",
       "  <tbody>\n",
       "    <tr>\n",
       "      <th>Dead</th>\n",
       "      <td>1.000000</td>\n",
       "      <td>0.438048</td>\n",
       "      <td>0.653303</td>\n",
       "    </tr>\n",
       "    <tr>\n",
       "      <th>Injured</th>\n",
       "      <td>0.438048</td>\n",
       "      <td>1.000000</td>\n",
       "      <td>0.966754</td>\n",
       "    </tr>\n",
       "    <tr>\n",
       "      <th>Total</th>\n",
       "      <td>0.653303</td>\n",
       "      <td>0.966754</td>\n",
       "      <td>1.000000</td>\n",
       "    </tr>\n",
       "  </tbody>\n",
       "</table>\n",
       "</div>"
      ],
      "text/plain": [
       "             Dead   Injured     Total\n",
       "Dead     1.000000  0.438048  0.653303\n",
       "Injured  0.438048  1.000000  0.966754\n",
       "Total    0.653303  0.966754  1.000000"
      ]
     },
     "execution_count": 10,
     "metadata": {},
     "output_type": "execute_result"
    }
   ],
   "source": [
    "Shooting.corr()"
   ]
  },
  {
   "cell_type": "code",
   "execution_count": null,
   "id": "f4ad9e50",
   "metadata": {},
   "outputs": [],
   "source": [
    "plt.figure(figsize=(12,8))\n",
    "\n",
    "sns.heatmap(Shooting.corr(), cmap='rocket')"
   ]
  },
  {
   "cell_type": "code",
   "execution_count": null,
   "id": "9f0afa32",
   "metadata": {},
   "outputs": [],
   "source": [
    "Shooting.loc[Shooting.State == 'Maryl']# using the loc function to get cases in state or city. used marry Land for example."
   ]
  },
  {
   "cell_type": "markdown",
   "id": "5500493e",
   "metadata": {},
   "source": [
    "### FOOTNOTES\n",
    "###### OBSERVATIONS\n",
    "* Illinois, California, Texas and Florida, are where more shooting happens.\n",
    "* New Hampshire, Peoria ,Maine ,Wyoming ,Santa Ana ,Northern Mariana Isls ,Samson ,Colorado Springs ,Lancaster County                    \n",
    ",Robinson Township and Pennsylvania  Jenkins Township all have only experinced on mass shooting over the periodic data frame.\n",
    "\n",
    "#### POSSIBLE RECOMMENDATION\n",
    "* Gun restrictions and mental check should be placed on ahigh bill in the Fedral and State laws.\n",
    "* Finding out which folks are more likely to comit mass shoot.\n",
    "* Strict policies on heavy duty arms and and ownership of unlisenced guns.\n",
    "* Balance the theory of xnephobia by including academic program against racial segregation.\n",
    "* Does who have been arrested should openly been tried and proper punishment to serve as learning to others.\n",
    "* The need for social media database to be all to pick out violency tendencies should be researched on and included an \n",
    "  alart on security units.\n",
    "    \n",
    "    \n",
    "    "
   ]
  },
  {
   "cell_type": "code",
   "execution_count": null,
   "id": "ec7352bb",
   "metadata": {},
   "outputs": [],
   "source": []
  }
 ],
 "metadata": {
  "kernelspec": {
   "display_name": "Python 3 (ipykernel)",
   "language": "python",
   "name": "python3"
  },
  "language_info": {
   "codemirror_mode": {
    "name": "ipython",
    "version": 3
   },
   "file_extension": ".py",
   "mimetype": "text/x-python",
   "name": "python",
   "nbconvert_exporter": "python",
   "pygments_lexer": "ipython3",
   "version": "3.9.12"
  }
 },
 "nbformat": 4,
 "nbformat_minor": 5
}
